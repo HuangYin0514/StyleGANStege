{
 "cells": [
  {
   "cell_type": "markdown",
   "metadata": {},
   "source": [
    "#  Import Lib"
   ]
  },
  {
   "cell_type": "code",
   "execution_count": 1,
   "metadata": {
    "ExecuteTime": {
     "end_time": "2020-03-28T04:19:41.459326Z",
     "start_time": "2020-03-28T04:19:41.449172Z"
    }
   },
   "outputs": [],
   "source": [
    "from IPython.core.interactiveshell import InteractiveShell\n",
    "InteractiveShell.ast_node_interactivity = \"all\""
   ]
  },
  {
   "cell_type": "code",
   "execution_count": 2,
   "metadata": {
    "ExecuteTime": {
     "end_time": "2020-03-28T04:19:44.259467Z",
     "start_time": "2020-03-28T04:19:41.470372Z"
    }
   },
   "outputs": [],
   "source": [
    "from __future__ import print_function\n",
    "import logging\n",
    "import time\n",
    "import math\n",
    "import imageio\n",
    "from tqdm.notebook import tqdm\n",
    "import shutil\n",
    "import torch.optim as optim\n",
    "import torch.nn.functional as F\n",
    "from torchvision import datasets, transforms\n",
    "from IPython.display import HTML\n",
    "import matplotlib.animation as animation\n",
    "import matplotlib.pyplot as plt\n",
    "import numpy as np\n",
    "import torchvision.utils as vutils\n",
    "import torch.utils.data\n",
    "import torch.backends.cudnn as cudnn\n",
    "import torch.nn.parallel\n",
    "import torch.nn as nn\n",
    "import torch\n",
    "import random\n",
    "import os\n",
    "import argparse\n",
    "%matplotlib inline"
   ]
  },
  {
   "cell_type": "markdown",
   "metadata": {},
   "source": [
    "# util"
   ]
  },
  {
   "cell_type": "code",
   "execution_count": 3,
   "metadata": {
    "ExecuteTime": {
     "end_time": "2020-03-28T04:19:44.273131Z",
     "start_time": "2020-03-28T04:19:44.263291Z"
    }
   },
   "outputs": [],
   "source": [
    "def avg_list(input_list, interval):\n",
    "    result_list = []\n",
    "    temp_list = []\n",
    "    counter = 0\n",
    "    for val in input_list:\n",
    "        counter += 1\n",
    "        temp_list.append(val)\n",
    "        if counter % interval == 0:\n",
    "            result_list.append(np.mean(temp_list))\n",
    "            temp_list = []\n",
    "    return result_list\n",
    "\n",
    "\n",
    "def sample_list(input_list, interval):\n",
    "    result_list = []\n",
    "    counter = 0\n",
    "    for val in input_list:\n",
    "        if counter % interval == 0:\n",
    "            result_list.append(val)\n",
    "        counter += 1\n",
    "    return result_list"
   ]
  },
  {
   "cell_type": "markdown",
   "metadata": {},
   "source": [
    "# read data from file"
   ]
  },
  {
   "cell_type": "code",
   "execution_count": 4,
   "metadata": {
    "ExecuteTime": {
     "end_time": "2020-03-28T04:19:44.357195Z",
     "start_time": "2020-03-28T04:19:44.276912Z"
    }
   },
   "outputs": [],
   "source": [
    "def read_log_file(filename, interval=99):\n",
    "    acc1, acc2, acc3 = [], [], []\n",
    "    datafile = open(filename, 'r')\n",
    "    data = datafile.readlines()\n",
    "    for line in data:\n",
    "\n",
    "        if line.find('BER') == -1:\n",
    "            continue\n",
    "\n",
    "        BREs = line.split('|')\n",
    "        for BRE in BREs:\n",
    "            if BRE.find('BER') == -1:\n",
    "                continue\n",
    "            real_BRE = BRE.strip(' ')\n",
    "            name, value = real_BRE.split(':')\n",
    "            if name == 'BER_1':\n",
    "                acc1.append(value)\n",
    "            if name == 'BER_2':\n",
    "                acc2.append(value)\n",
    "            if name == 'BER_3':\n",
    "                acc3.append(value)\n",
    "\n",
    "    # string to float\n",
    "    acc1 = list(map(float, acc1))\n",
    "    acc2 = list(map(float, acc2))\n",
    "    acc3 = list(map(float, acc3))\n",
    "\n",
    "    # sample data from acc\n",
    "    sample_acc1 = sample_list(acc1, interval)\n",
    "    sample_acc2 = sample_list(acc2, interval)\n",
    "    sample_acc3 = sample_list(acc3, interval)\n",
    "\n",
    "    return sample_acc1, sample_acc2, sample_acc3"
   ]
  },
  {
   "cell_type": "markdown",
   "metadata": {},
   "source": [
    "# plot acc cure in 1000 epoch"
   ]
  },
  {
   "cell_type": "code",
   "execution_count": 32,
   "metadata": {
    "ExecuteTime": {
     "end_time": "2020-03-28T04:44:30.138761Z",
     "start_time": "2020-03-28T04:44:30.103705Z"
    },
    "scrolled": true
   },
   "outputs": [
    {
     "data": {
      "text/plain": [
       "(30, 30, 30)"
      ]
     },
     "execution_count": 32,
     "metadata": {},
     "output_type": "execute_result"
    }
   ],
   "source": [
    "sample_acc1, sample_acc2, sample_acc3 = read_log_file(\n",
    "    '../input/log/BackForDcgan_FileNumber_1.txt', interval=100)\n",
    "# x=np.linspace(0,4,10)\n",
    "len(sample_acc1), len(sample_acc2), len(sample_acc3)"
   ]
  },
  {
   "cell_type": "code",
   "execution_count": 34,
   "metadata": {
    "ExecuteTime": {
     "end_time": "2020-03-28T04:44:48.411036Z",
     "start_time": "2020-03-28T04:44:47.896363Z"
    },
    "scrolled": false
   },
   "outputs": [
    {
     "data": {
      "text/plain": [
       "<Figure size 400x320 with 0 Axes>"
      ]
     },
     "execution_count": 34,
     "metadata": {},
     "output_type": "execute_result"
    },
    {
     "data": {
      "text/plain": [
       "<matplotlib.axes._subplots.AxesSubplot at 0x7fabd60cca20>"
      ]
     },
     "execution_count": 34,
     "metadata": {},
     "output_type": "execute_result"
    },
    {
     "data": {
      "text/plain": [
       "[<matplotlib.lines.Line2D at 0x7fabd6122400>]"
      ]
     },
     "execution_count": 34,
     "metadata": {},
     "output_type": "execute_result"
    },
    {
     "data": {
      "text/plain": [
       "[<matplotlib.lines.Line2D at 0x7fabd61d0400>]"
      ]
     },
     "execution_count": 34,
     "metadata": {},
     "output_type": "execute_result"
    },
    {
     "data": {
      "text/plain": [
       "[<matplotlib.lines.Line2D at 0x7fabd611fba8>]"
      ]
     },
     "execution_count": 34,
     "metadata": {},
     "output_type": "execute_result"
    },
    {
     "data": {
      "text/plain": [
       "(-1.0, 12.0)"
      ]
     },
     "execution_count": 34,
     "metadata": {},
     "output_type": "execute_result"
    },
    {
     "data": {
      "text/plain": [
       "(0.0, 0.5)"
      ]
     },
     "execution_count": 34,
     "metadata": {},
     "output_type": "execute_result"
    },
    {
     "data": {
      "text/plain": [
       "(array([-2.,  0.,  2.,  4.,  6.,  8., 10., 12.]),\n",
       " <a list of 8 Text major ticklabel objects>)"
      ]
     },
     "execution_count": 34,
     "metadata": {},
     "output_type": "execute_result"
    },
    {
     "data": {
      "text/plain": [
       "(array([0. , 0.1, 0.2, 0.3, 0.4, 0.5]),\n",
       " <a list of 6 Text major ticklabel objects>)"
      ]
     },
     "execution_count": 34,
     "metadata": {},
     "output_type": "execute_result"
    },
    {
     "data": {
      "text/plain": [
       "<matplotlib.legend.Legend at 0x7fabd604cb38>"
      ]
     },
     "execution_count": 34,
     "metadata": {},
     "output_type": "execute_result"
    },
    {
     "data": {
      "image/png": "[encoded data removed]",
      "text/plain": [
       "<Figure size 400x320 with 1 Axes>"
      ]
     },
     "metadata": {
      "needs_background": "light"
     },
     "output_type": "display_data"
    }
   ],
   "source": [
    "plt.figure(figsize=(5, 4), dpi=80)\n",
    "plt.subplot(1, 1, 1)\n",
    "# plt.ylim((0, 1))\n",
    "# plt.axis([0, 100, 0, 1])\n",
    "plt.plot(sample_acc1[:10],\n",
    "         label='sample_acc1 ',\n",
    "         marker='^',\n",
    "         color='black',\n",
    "         linewidth=1)\n",
    "plt.plot(sample_acc2[:10],\n",
    "         label='sample_acc2 ',\n",
    "         marker='x',\n",
    "         color='black',\n",
    "         linewidth=1)\n",
    "plt.plot(sample_acc3[:10],\n",
    "         label='sample_acc3 ',\n",
    "         marker='o',\n",
    "         color='black',\n",
    "         linewidth=1)\n",
    "plt.xlim((-1, 12))\n",
    "plt.ylim((0, 0.5))\n",
    "plt.xticks(fontsize=10.5)\n",
    "plt.yticks(fontsize=10.5)\n",
    "plt.legend()\n",
    "plt.savefig('./result/plot_acc_cure_in_1000_epoch.jpg')"
   ]
  },
  {
   "cell_type": "markdown",
   "metadata": {},
   "source": [
    "# find acc epoch in equal to min"
   ]
  },
  {
   "cell_type": "code",
   "execution_count": 46,
   "metadata": {
    "ExecuteTime": {
     "end_time": "2020-03-28T04:48:55.057920Z",
     "start_time": "2020-03-28T04:48:55.040364Z"
    }
   },
   "outputs": [],
   "source": [
    "def find_epoch_accEQZero(findlist):\n",
    "    result_list = []\n",
    "    for i in findlist:\n",
    "        if i == 0:\n",
    "            result_list.append(i)\n",
    "            break\n",
    "        result_list.append(i)\n",
    "    return result_list\n",
    "\n",
    "\n",
    "def reduce_dot(reduce_list, max_dot_num=10, mean=False):\n",
    "    x_position = []\n",
    "    resut_list = []\n",
    "    len_reduce_list = len(reduce_list)\n",
    "    interval = len(reduce_list) / (max_dot_num)\n",
    "    #frist elem\n",
    "    x_position.append(0)\n",
    "    resut_list.append(reduce_list[0])\n",
    "    #others elem\n",
    "    for i in range(1, max_dot_num - 1):\n",
    "        eqZeroDotPosition_index = int(np.floor(interval * (i)))\n",
    "        x_position.append(eqZeroDotPosition_index)\n",
    "        if mean == False:\n",
    "            resut_list.append(reduce_list[eqZeroDotPosition_index])\n",
    "        else:\n",
    "            compute_mean_val = np.mean(\n",
    "                reduce_list[x_position[-2]:eqZeroDotPosition_index+1])\n",
    "            resut_list.append(compute_mean_val)\n",
    "    #last elem\n",
    "    x_position.append(interval * max_dot_num - 1)\n",
    "    resut_list.append(reduce_list[len(reduce_list) - 1])\n",
    "    return x_position, resut_list\n"
   ]
  },
  {
   "cell_type": "code",
   "execution_count": 47,
   "metadata": {
    "ExecuteTime": {
     "end_time": "2020-03-28T04:48:58.071253Z",
     "start_time": "2020-03-28T04:48:58.000364Z"
    }
   },
   "outputs": [
    {
     "ename": "UnboundLocalError",
     "evalue": "local variable 'compute_mean_val' referenced before assignment",
     "output_type": "error",
     "traceback": [
      "\u001b[0;31m---------------------------------------------------------------------------\u001b[0m",
      "\u001b[0;31mUnboundLocalError\u001b[0m                         Traceback (most recent call last)",
      "\u001b[0;32m<ipython-input-47-1e61a9bffe4c>\u001b[0m in \u001b[0;36m<module>\u001b[0;34m\u001b[0m\n\u001b[1;32m     12\u001b[0m reduce_acc2 = reduce_dot(findepoch_sample_acc2,\n\u001b[1;32m     13\u001b[0m                          \u001b[0mmax_dot_num\u001b[0m\u001b[0;34m=\u001b[0m\u001b[0mlen\u001b[0m\u001b[0;34m(\u001b[0m\u001b[0mfindepoch_sample_acc2\u001b[0m\u001b[0;34m)\u001b[0m\u001b[0;34m,\u001b[0m\u001b[0;34m\u001b[0m\u001b[0;34m\u001b[0m\u001b[0m\n\u001b[0;32m---> 14\u001b[0;31m                          mean=False)\n\u001b[0m\u001b[1;32m     15\u001b[0m reduce_acc3 = reduce_dot(findepoch_sample_acc3,\n\u001b[1;32m     16\u001b[0m                          \u001b[0mmax_dot_num\u001b[0m\u001b[0;34m=\u001b[0m\u001b[0mlen\u001b[0m\u001b[0;34m(\u001b[0m\u001b[0mfindepoch_sample_acc3\u001b[0m\u001b[0;34m)\u001b[0m\u001b[0;34m,\u001b[0m\u001b[0;34m\u001b[0m\u001b[0;34m\u001b[0m\u001b[0m\n",
      "\u001b[0;32m<ipython-input-46-d9b6c0ac7e09>\u001b[0m in \u001b[0;36mreduce_dot\u001b[0;34m(reduce_list, max_dot_num, mean)\u001b[0m\n\u001b[1;32m     26\u001b[0m             compute_mean_val = np.mean(\n\u001b[1;32m     27\u001b[0m                 reduce_list[x_position[-2]:eqZeroDotPosition_index+1])\n\u001b[0;32m---> 28\u001b[0;31m         \u001b[0mresut_list\u001b[0m\u001b[0;34m.\u001b[0m\u001b[0mappend\u001b[0m\u001b[0;34m(\u001b[0m\u001b[0mcompute_mean_val\u001b[0m\u001b[0;34m)\u001b[0m\u001b[0;34m\u001b[0m\u001b[0;34m\u001b[0m\u001b[0m\n\u001b[0m\u001b[1;32m     29\u001b[0m     \u001b[0;31m#last elem\u001b[0m\u001b[0;34m\u001b[0m\u001b[0;34m\u001b[0m\u001b[0;34m\u001b[0m\u001b[0m\n\u001b[1;32m     30\u001b[0m     \u001b[0mx_position\u001b[0m\u001b[0;34m.\u001b[0m\u001b[0mappend\u001b[0m\u001b[0;34m(\u001b[0m\u001b[0minterval\u001b[0m \u001b[0;34m*\u001b[0m \u001b[0mmax_dot_num\u001b[0m \u001b[0;34m-\u001b[0m \u001b[0;36m1\u001b[0m\u001b[0;34m)\u001b[0m\u001b[0;34m\u001b[0m\u001b[0;34m\u001b[0m\u001b[0m\n",
      "\u001b[0;31mUnboundLocalError\u001b[0m: local variable 'compute_mean_val' referenced before assignment"
     ]
    }
   ],
   "source": [
    "sample_acc1, _, _ = read_log_file('../input/log/BackForDcgan_FileNumber_1.txt')\n",
    "sample_acc2, _, _ = read_log_file(\n",
    "    '../input/log/BackForDcgan_FileNumber_128.txt')\n",
    "sample_acc3, _, _ = read_log_file(\n",
    "    '../input/log/BackForDcgan_FileNumber_1024.txt')\n",
    "findepoch_sample_acc1 = sample_acc1[:sample_acc1.index(min(sample_acc1)) + 1]\n",
    "findepoch_sample_acc2 = sample_acc2[:sample_acc2.index(min(sample_acc2)) + 1]\n",
    "findepoch_sample_acc3 = sample_acc3[:sample_acc3.index(min(sample_acc3)) + 1]\n",
    "reduce_acc1 = reduce_dot(findepoch_sample_acc1,\n",
    "                         max_dot_num=len(findepoch_sample_acc1),\n",
    "                         mean=False)\n",
    "reduce_acc2 = reduce_dot(findepoch_sample_acc2,\n",
    "                         max_dot_num=len(findepoch_sample_acc2),\n",
    "                         mean=False)\n",
    "reduce_acc3 = reduce_dot(findepoch_sample_acc3,\n",
    "                         max_dot_num=len(findepoch_sample_acc3),\n",
    "                         mean=False)"
   ]
  },
  {
   "cell_type": "code",
   "execution_count": 45,
   "metadata": {
    "ExecuteTime": {
     "end_time": "2020-03-28T04:48:23.621259Z",
     "start_time": "2020-03-28T04:48:23.247280Z"
    }
   },
   "outputs": [
    {
     "data": {
      "text/plain": [
       "<Figure size 400x320 with 0 Axes>"
      ]
     },
     "execution_count": 45,
     "metadata": {},
     "output_type": "execute_result"
    },
    {
     "data": {
      "text/plain": [
       "<matplotlib.axes._subplots.AxesSubplot at 0x7fabd5ecb320>"
      ]
     },
     "execution_count": 45,
     "metadata": {},
     "output_type": "execute_result"
    },
    {
     "data": {
      "text/plain": [
       "[<matplotlib.lines.Line2D at 0x7fabd60bdd30>]"
      ]
     },
     "execution_count": 45,
     "metadata": {},
     "output_type": "execute_result"
    },
    {
     "ename": "ValueError",
     "evalue": "x and y must have same first dimension, but have shapes (10,) and (18,)",
     "output_type": "error",
     "traceback": [
      "\u001b[0;31m---------------------------------------------------------------------------\u001b[0m",
      "\u001b[0;31mValueError\u001b[0m                                Traceback (most recent call last)",
      "\u001b[0;32m<ipython-input-45-b5087c5b7e38>\u001b[0m in \u001b[0;36m<module>\u001b[0;34m\u001b[0m\n\u001b[1;32m     14\u001b[0m          \u001b[0mlabel\u001b[0m\u001b[0;34m=\u001b[0m\u001b[0;34m'sample_acc2 '\u001b[0m\u001b[0;34m,\u001b[0m\u001b[0;34m\u001b[0m\u001b[0;34m\u001b[0m\u001b[0m\n\u001b[1;32m     15\u001b[0m          \u001b[0mmarker\u001b[0m\u001b[0;34m=\u001b[0m\u001b[0;34m'x'\u001b[0m\u001b[0;34m,\u001b[0m\u001b[0;34m\u001b[0m\u001b[0;34m\u001b[0m\u001b[0m\n\u001b[0;32m---> 16\u001b[0;31m          linewidth=1)\n\u001b[0m\u001b[1;32m     17\u001b[0m \u001b[0;31m# plt.plot(reduce_acc3[0],\u001b[0m\u001b[0;34m\u001b[0m\u001b[0;34m\u001b[0m\u001b[0;34m\u001b[0m\u001b[0m\n\u001b[1;32m     18\u001b[0m \u001b[0;31m#          reduce_acc3[1],\u001b[0m\u001b[0;34m\u001b[0m\u001b[0;34m\u001b[0m\u001b[0;34m\u001b[0m\u001b[0m\n",
      "\u001b[0;32m~/.local/lib/python3.6/site-packages/matplotlib/pyplot.py\u001b[0m in \u001b[0;36mplot\u001b[0;34m(scalex, scaley, data, *args, **kwargs)\u001b[0m\n\u001b[1;32m   2761\u001b[0m     return gca().plot(\n\u001b[1;32m   2762\u001b[0m         *args, scalex=scalex, scaley=scaley, **({\"data\": data} if data\n\u001b[0;32m-> 2763\u001b[0;31m         is not None else {}), **kwargs)\n\u001b[0m\u001b[1;32m   2764\u001b[0m \u001b[0;34m\u001b[0m\u001b[0m\n\u001b[1;32m   2765\u001b[0m \u001b[0;34m\u001b[0m\u001b[0m\n",
      "\u001b[0;32m~/.local/lib/python3.6/site-packages/matplotlib/axes/_axes.py\u001b[0m in \u001b[0;36mplot\u001b[0;34m(self, scalex, scaley, data, *args, **kwargs)\u001b[0m\n\u001b[1;32m   1644\u001b[0m         \"\"\"\n\u001b[1;32m   1645\u001b[0m         \u001b[0mkwargs\u001b[0m \u001b[0;34m=\u001b[0m \u001b[0mcbook\u001b[0m\u001b[0;34m.\u001b[0m\u001b[0mnormalize_kwargs\u001b[0m\u001b[0;34m(\u001b[0m\u001b[0mkwargs\u001b[0m\u001b[0;34m,\u001b[0m \u001b[0mmlines\u001b[0m\u001b[0;34m.\u001b[0m\u001b[0mLine2D\u001b[0m\u001b[0;34m)\u001b[0m\u001b[0;34m\u001b[0m\u001b[0;34m\u001b[0m\u001b[0m\n\u001b[0;32m-> 1646\u001b[0;31m         \u001b[0mlines\u001b[0m \u001b[0;34m=\u001b[0m \u001b[0;34m[\u001b[0m\u001b[0;34m*\u001b[0m\u001b[0mself\u001b[0m\u001b[0;34m.\u001b[0m\u001b[0m_get_lines\u001b[0m\u001b[0;34m(\u001b[0m\u001b[0;34m*\u001b[0m\u001b[0margs\u001b[0m\u001b[0;34m,\u001b[0m \u001b[0mdata\u001b[0m\u001b[0;34m=\u001b[0m\u001b[0mdata\u001b[0m\u001b[0;34m,\u001b[0m \u001b[0;34m**\u001b[0m\u001b[0mkwargs\u001b[0m\u001b[0;34m)\u001b[0m\u001b[0;34m]\u001b[0m\u001b[0;34m\u001b[0m\u001b[0;34m\u001b[0m\u001b[0m\n\u001b[0m\u001b[1;32m   1647\u001b[0m         \u001b[0;32mfor\u001b[0m \u001b[0mline\u001b[0m \u001b[0;32min\u001b[0m \u001b[0mlines\u001b[0m\u001b[0;34m:\u001b[0m\u001b[0;34m\u001b[0m\u001b[0;34m\u001b[0m\u001b[0m\n\u001b[1;32m   1648\u001b[0m             \u001b[0mself\u001b[0m\u001b[0;34m.\u001b[0m\u001b[0madd_line\u001b[0m\u001b[0;34m(\u001b[0m\u001b[0mline\u001b[0m\u001b[0;34m)\u001b[0m\u001b[0;34m\u001b[0m\u001b[0;34m\u001b[0m\u001b[0m\n",
      "\u001b[0;32m~/.local/lib/python3.6/site-packages/matplotlib/axes/_base.py\u001b[0m in \u001b[0;36m__call__\u001b[0;34m(self, *args, **kwargs)\u001b[0m\n\u001b[1;32m    214\u001b[0m                 \u001b[0mthis\u001b[0m \u001b[0;34m+=\u001b[0m \u001b[0margs\u001b[0m\u001b[0;34m[\u001b[0m\u001b[0;36m0\u001b[0m\u001b[0;34m]\u001b[0m\u001b[0;34m,\u001b[0m\u001b[0;34m\u001b[0m\u001b[0;34m\u001b[0m\u001b[0m\n\u001b[1;32m    215\u001b[0m                 \u001b[0margs\u001b[0m \u001b[0;34m=\u001b[0m \u001b[0margs\u001b[0m\u001b[0;34m[\u001b[0m\u001b[0;36m1\u001b[0m\u001b[0;34m:\u001b[0m\u001b[0;34m]\u001b[0m\u001b[0;34m\u001b[0m\u001b[0;34m\u001b[0m\u001b[0m\n\u001b[0;32m--> 216\u001b[0;31m             \u001b[0;32myield\u001b[0m \u001b[0;32mfrom\u001b[0m \u001b[0mself\u001b[0m\u001b[0;34m.\u001b[0m\u001b[0m_plot_args\u001b[0m\u001b[0;34m(\u001b[0m\u001b[0mthis\u001b[0m\u001b[0;34m,\u001b[0m \u001b[0mkwargs\u001b[0m\u001b[0;34m)\u001b[0m\u001b[0;34m\u001b[0m\u001b[0;34m\u001b[0m\u001b[0m\n\u001b[0m\u001b[1;32m    217\u001b[0m \u001b[0;34m\u001b[0m\u001b[0m\n\u001b[1;32m    218\u001b[0m     \u001b[0;32mdef\u001b[0m \u001b[0mget_next_color\u001b[0m\u001b[0;34m(\u001b[0m\u001b[0mself\u001b[0m\u001b[0;34m)\u001b[0m\u001b[0;34m:\u001b[0m\u001b[0;34m\u001b[0m\u001b[0;34m\u001b[0m\u001b[0m\n",
      "\u001b[0;32m~/.local/lib/python3.6/site-packages/matplotlib/axes/_base.py\u001b[0m in \u001b[0;36m_plot_args\u001b[0;34m(self, tup, kwargs)\u001b[0m\n\u001b[1;32m    340\u001b[0m \u001b[0;34m\u001b[0m\u001b[0m\n\u001b[1;32m    341\u001b[0m         \u001b[0;32mif\u001b[0m \u001b[0mx\u001b[0m\u001b[0;34m.\u001b[0m\u001b[0mshape\u001b[0m\u001b[0;34m[\u001b[0m\u001b[0;36m0\u001b[0m\u001b[0;34m]\u001b[0m \u001b[0;34m!=\u001b[0m \u001b[0my\u001b[0m\u001b[0;34m.\u001b[0m\u001b[0mshape\u001b[0m\u001b[0;34m[\u001b[0m\u001b[0;36m0\u001b[0m\u001b[0;34m]\u001b[0m\u001b[0;34m:\u001b[0m\u001b[0;34m\u001b[0m\u001b[0;34m\u001b[0m\u001b[0m\n\u001b[0;32m--> 342\u001b[0;31m             raise ValueError(f\"x and y must have same first dimension, but \"\n\u001b[0m\u001b[1;32m    343\u001b[0m                              f\"have shapes {x.shape} and {y.shape}\")\n\u001b[1;32m    344\u001b[0m         \u001b[0;32mif\u001b[0m \u001b[0mx\u001b[0m\u001b[0;34m.\u001b[0m\u001b[0mndim\u001b[0m \u001b[0;34m>\u001b[0m \u001b[0;36m2\u001b[0m \u001b[0;32mor\u001b[0m \u001b[0my\u001b[0m\u001b[0;34m.\u001b[0m\u001b[0mndim\u001b[0m \u001b[0;34m>\u001b[0m \u001b[0;36m2\u001b[0m\u001b[0;34m:\u001b[0m\u001b[0;34m\u001b[0m\u001b[0;34m\u001b[0m\u001b[0m\n",
      "\u001b[0;31mValueError\u001b[0m: x and y must have same first dimension, but have shapes (10,) and (18,)"
     ]
    },
    {
     "data": {
      "image/png": "[encoded data removed]",
      "text/plain": [
       "<Figure size 400x320 with 1 Axes>"
      ]
     },
     "metadata": {
      "needs_background": "light"
     },
     "output_type": "display_data"
    }
   ],
   "source": [
    "plt.figure(figsize=(5, 4), dpi=80)\n",
    "plt.subplot(1, 1, 1)\n",
    "# plt.ylim((0, 1))\n",
    "# plt.axis([0, 100, 0, 1])\n",
    "plt.plot(reduce_acc1[0],\n",
    "         reduce_acc1[1],\n",
    "#          color='black',\n",
    "         label='sample_acc1 ',\n",
    "         marker='^',\n",
    "         linewidth=1)\n",
    "plt.plot(reduce_acc2[0],\n",
    "         reduce_acc2[1],\n",
    "#          color='black',\n",
    "         label='sample_acc2 ',\n",
    "         marker='x',\n",
    "         linewidth=1)\n",
    "# plt.plot(reduce_acc3[0],\n",
    "#          reduce_acc3[1],\n",
    "# #          color='black',\n",
    "#          label='sample_acc3 ',\n",
    "#          marker='o',\n",
    "#          linewidth=1)\n",
    "plt.xlim((-1, 12))\n",
    "# plt.ylim((0, 0.5))\n",
    "plt.xticks(fontsize=10.5)\n",
    "plt.yticks(fontsize=10.5)\n",
    "plt.legend()\n",
    "plt.savefig('./result/find_acc_epoch_in_equal_to_0.jpg')"
   ]
  },
  {
   "cell_type": "markdown",
   "metadata": {},
   "source": [
    "# plot extract net of acc"
   ]
  },
  {
   "cell_type": "code",
   "execution_count": 35,
   "metadata": {
    "ExecuteTime": {
     "end_time": "2020-03-28T04:45:15.568514Z",
     "start_time": "2020-03-28T04:45:15.535783Z"
    }
   },
   "outputs": [
    {
     "data": {
      "text/plain": [
       "(13, 13, 13)"
      ]
     },
     "execution_count": 35,
     "metadata": {},
     "output_type": "execute_result"
    }
   ],
   "source": [
    "sample_acc1, sample_acc2, sample_acc3 = read_log_file(\n",
    "    '../input/log/ExtractNet.log', interval=100)\n",
    "sample_acc1 = sample_acc1[:int(len(sample_acc1) // 2)]\n",
    "sample_acc2 = sample_acc2[:int(len(sample_acc2) // 2)]\n",
    "sample_acc3 = sample_acc3[:int(len(sample_acc3) // 2)]\n",
    "len(sample_acc1), len(sample_acc2), len(sample_acc3)"
   ]
  },
  {
   "cell_type": "code",
   "execution_count": 36,
   "metadata": {
    "ExecuteTime": {
     "end_time": "2020-03-28T04:45:16.655995Z",
     "start_time": "2020-03-28T04:45:16.112462Z"
    }
   },
   "outputs": [
    {
     "data": {
      "text/plain": [
       "<Figure size 400x320 with 0 Axes>"
      ]
     },
     "execution_count": 36,
     "metadata": {},
     "output_type": "execute_result"
    },
    {
     "data": {
      "text/plain": [
       "<matplotlib.axes._subplots.AxesSubplot at 0x7fabd6066f28>"
      ]
     },
     "execution_count": 36,
     "metadata": {},
     "output_type": "execute_result"
    },
    {
     "data": {
      "text/plain": [
       "[<matplotlib.lines.Line2D at 0x7fabd6066748>]"
      ]
     },
     "execution_count": 36,
     "metadata": {},
     "output_type": "execute_result"
    },
    {
     "data": {
      "text/plain": [
       "[<matplotlib.lines.Line2D at 0x7fabd5f91630>]"
      ]
     },
     "execution_count": 36,
     "metadata": {},
     "output_type": "execute_result"
    },
    {
     "data": {
      "text/plain": [
       "[<matplotlib.lines.Line2D at 0x7fabd5f915f8>]"
      ]
     },
     "execution_count": 36,
     "metadata": {},
     "output_type": "execute_result"
    },
    {
     "data": {
      "text/plain": [
       "(-1.0, 12.0)"
      ]
     },
     "execution_count": 36,
     "metadata": {},
     "output_type": "execute_result"
    },
    {
     "data": {
      "text/plain": [
       "(0.0, 0.5)"
      ]
     },
     "execution_count": 36,
     "metadata": {},
     "output_type": "execute_result"
    },
    {
     "data": {
      "text/plain": [
       "(array([-2.,  0.,  2.,  4.,  6.,  8., 10., 12.]),\n",
       " <a list of 8 Text major ticklabel objects>)"
      ]
     },
     "execution_count": 36,
     "metadata": {},
     "output_type": "execute_result"
    },
    {
     "data": {
      "text/plain": [
       "(array([0. , 0.1, 0.2, 0.3, 0.4, 0.5]),\n",
       " <a list of 6 Text major ticklabel objects>)"
      ]
     },
     "execution_count": 36,
     "metadata": {},
     "output_type": "execute_result"
    },
    {
     "data": {
      "text/plain": [
       "<matplotlib.legend.Legend at 0x7fabd5f9bd68>"
      ]
     },
     "execution_count": 36,
     "metadata": {},
     "output_type": "execute_result"
    },
    {
     "data": {
      "image/png": "[encoded data removed]",
      "text/plain": [
       "<Figure size 400x320 with 1 Axes>"
      ]
     },
     "metadata": {
      "needs_background": "light"
     },
     "output_type": "display_data"
    }
   ],
   "source": [
    "plt.figure(figsize=(5, 4), dpi=80)\n",
    "plt.subplot(1, 1, 1)\n",
    "# plt.ylim((0, 1))\n",
    "# plt.axis([0, 100, 0, 1])\n",
    "plt.plot(sample_acc1,\n",
    "         label='sample_acc1 ',\n",
    "         marker='^',\n",
    "         color='black',\n",
    "         linewidth=1)\n",
    "plt.plot(sample_acc2,\n",
    "         label='sample_acc2 ',\n",
    "         marker='x',\n",
    "         color='black',\n",
    "         linewidth=1)\n",
    "plt.plot(sample_acc3,\n",
    "         label='sample_acc3 ',\n",
    "         marker='o',\n",
    "         color='black',\n",
    "         linewidth=1)\n",
    "plt.xlim((-1,12))\n",
    "plt.ylim((0, 0.5))\n",
    "plt.xticks(fontsize=10.5)\n",
    "plt.yticks(fontsize=10.5)\n",
    "plt.legend()\n",
    "plt.savefig('./result/extractNet.jpg')"
   ]
  }
 ],
 "metadata": {
  "kernelspec": {
   "display_name": "Python 3",
   "language": "python",
   "name": "python3"
  },
  "language_info": {
   "codemirror_mode": {
    "name": "ipython",
    "version": 3
   },
   "file_extension": ".py",
   "mimetype": "text/x-python",
   "name": "python",
   "nbconvert_exporter": "python",
   "pygments_lexer": "ipython3",
   "version": "3.6.9"
  },
  "toc": {
   "base_numbering": 1,
   "nav_menu": {},
   "number_sections": true,
   "sideBar": true,
   "skip_h1_title": false,
   "title_cell": "Table of Contents",
   "title_sidebar": "Contents",
   "toc_cell": false,
   "toc_position": {
    "height": "calc(100% - 180px)",
    "left": "10px",
    "top": "150px",
    "width": "307.2px"
   },
   "toc_section_display": true,
   "toc_window_display": true
  },
  "varInspector": {
   "cols": {
    "lenName": 16,
    "lenType": 16,
    "lenVar": 40
   },
   "kernels_config": {
    "python": {
     "delete_cmd_postfix": "",
     "delete_cmd_prefix": "del ",
     "library": "var_list.py",
     "varRefreshCmd": "print(var_dic_list())"
    },
    "r": {
     "delete_cmd_postfix": ") ",
     "delete_cmd_prefix": "rm(",
     "library": "var_list.r",
     "varRefreshCmd": "cat(var_dic_list()) "
    }
   },
   "position": {
    "height": "238.4px",
    "left": "1190.6px",
    "right": "20px",
    "top": "120px",
    "width": "325.4px"
   },
   "types_to_exclude": [
    "module",
    "function",
    "builtin_function_or_method",
    "instance",
    "_Feature"
   ],
   "window_display": false
  }
 },
 "nbformat": 4,
 "nbformat_minor": 4
}
